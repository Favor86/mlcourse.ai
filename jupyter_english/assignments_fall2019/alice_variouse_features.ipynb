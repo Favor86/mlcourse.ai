{
 "cells": [
  {
   "cell_type": "code",
   "execution_count": 1,
   "metadata": {},
   "outputs": [],
   "source": [
    "import pickle\n",
    "import numpy as np\n",
    "import pandas as pd\n",
    "\n",
    "from scipy.sparse import csr_matrix, hstack\n",
    "from sklearn.feature_extraction.text import TfidfVectorizer, CountVectorizer\n",
    "from sklearn.preprocessing import StandardScaler, MinMaxScaler\n",
    "from sklearn.model_selection import TimeSeriesSplit, cross_val_score, GridSearchCV\n",
    "from sklearn.metrics import roc_auc_score\n",
    "from sklearn.linear_model import LogisticRegression\n",
    "\n",
    "from matplotlib import pyplot as plt\n",
    "%matplotlib inline\n",
    "import seaborn as sns\n",
    "sns.set()"
   ]
  },
  {
   "cell_type": "code",
   "execution_count": 2,
   "metadata": {},
   "outputs": [
    {
     "data": {
      "text/plain": [
       "((253561, 21), (82797, 20), (336358, 21))"
      ]
     },
     "execution_count": 2,
     "metadata": {},
     "output_type": "execute_result"
    }
   ],
   "source": [
    "times = ['time%s' % i for i in range(1, 11)]\n",
    "sites = ['site%s' % i for i in range(1, 11)]\n",
    "\n",
    "train = pd.read_csv('../../data/alice/train_sessions.csv', parse_dates = times, index_col='session_id')\n",
    "test = pd.read_csv('../../data/alice/test_sessions.csv', parse_dates = times, index_col='session_id')\n",
    "\n",
    "train.sort_values(by='time1', inplace=True)\n",
    "\n",
    "idx = train.shape[0]\n",
    "data = pd.concat([train, test], sort=False) # leave train.target for eda\n",
    "\n",
    "train.shape, test.shape, data.shape"
   ]
  },
  {
   "cell_type": "code",
   "execution_count": 3,
   "metadata": {},
   "outputs": [
    {
     "data": {
      "text/plain": [
       "<336358x50000 sparse matrix of type '<class 'numpy.float64'>'\n",
       "\twith 4433718 stored elements in Compressed Sparse Row format>"
      ]
     },
     "execution_count": 3,
     "metadata": {},
     "output_type": "execute_result"
    }
   ],
   "source": [
    "data[sites] = data[sites].fillna(0).astype(np.uint16) # float->int (55.0 -> 55)\n",
    "\n",
    "# for each row combine site_ids into one string separated by space\n",
    "data['words'] = data[sites].astype(np.str).apply(' '.join, axis=1)\n",
    "\n",
    "#words = CountVectorizer(max_features=50000, ngram_range=(1, 3)).fit_transform(data['words'])\n",
    "words = TfidfVectorizer(max_features=50000, ngram_range=(1, 3)).fit_transform(data['words'])\n",
    "\n",
    "data.drop(['words'], inplace=True, axis=1)\n",
    "words"
   ]
  },
  {
   "cell_type": "code",
   "execution_count": 4,
   "metadata": {},
   "outputs": [
    {
     "data": {
      "text/plain": [
       "(array([0.81423928, 0.65396238, 0.87473037, 0.93492792, 0.84785245,\n",
       "        0.88841651, 0.92460283, 0.87528125, 0.92859017, 0.92143771]),\n",
       " 0.866404088770744)"
      ]
     },
     "execution_count": 4,
     "metadata": {},
     "output_type": "execute_result"
    }
   ],
   "source": [
    "model = LogisticRegression(random_state=17, solver='liblinear')\n",
    "time_split = TimeSeriesSplit(n_splits=10)\n",
    "\n",
    "X_train = words[:idx]\n",
    "y_train = train.target\n",
    "\n",
    "cv_scores = cross_val_score(model, X_train, y_train, cv=time_split, scoring='roc_auc')\n",
    "cv_scores, cv_scores.mean()"
   ]
  },
  {
   "cell_type": "code",
   "execution_count": 8,
   "metadata": {},
   "outputs": [],
   "source": [
    "data['min'] = data[times].min(axis=1)\n",
    "data['max'] = data[times].max(axis=1)\n",
    "data['seconds'] = ((data['max'] - data['min']) / np.timedelta64(1, 's'))\n",
    "data['minutes'] = ((data['max'] - data['min']) / np.timedelta64(1, 'm')).round(2)\n",
    "data.drop(['min','max'], inplace=True, axis=1)\n",
    "\n",
    "data['month'] = data['time1'].apply(lambda ts: ts.month+(12*(ts.year-2013))).astype(np.int8)\n",
    "data['yyyymm'] = data['time1'].apply(lambda ts: 100 * ts.year + ts.month).astype(np.int32) # wtf! why this works?\n",
    "data['mm'] = data['time1'].apply(lambda ts: ts.month).astype(np.int8)\n",
    "data['yyyy'] = data['time1'].apply(lambda ts: ts.year).astype(np.int32)\n",
    "\n",
    "data['dayofweek'] = data['time1'].apply(lambda ts: ts.dayofweek).astype(np.int8)\n",
    "data['weekend'] = data['time1'].apply(lambda ts: ts.dayofweek > 5).astype(np.int8)\n",
    "\n",
    "data['hour'] = data['time1'].apply(lambda ts: ts.hour).astype(np.int8)"
   ]
  },
  {
   "cell_type": "code",
   "execution_count": 10,
   "metadata": {},
   "outputs": [],
   "source": [
    "hosts = pd.read_pickle('../../data/alice/site_dic.pkl')\n",
    "hosts = pd.DataFrame(data=list(hosts.keys()), index=list(hosts.values()), columns=['name']) # switch key and value\n",
    "\n",
    "hosts['split'] = hosts['name'].str.split('.')\n",
    "hosts['len'] = hosts['split'].map(lambda x: len(x)).astype(np.int8)\n",
    "hosts['domain'] = hosts['split'].map(lambda x: x[-1])\n",
    "\n",
    "hosts.drop(['name','split'], inplace=True, axis=1)\n",
    "hosts.index.rename('site1', inplace=True) # rename index for the future merge\n",
    "data = pd.merge(data, hosts, how='left', on='site1')"
   ]
  },
  {
   "cell_type": "code",
   "execution_count": 11,
   "metadata": {},
   "outputs": [],
   "source": [
    "data['short'] = data['minutes'].map(lambda x: x < 0.8).astype(np.int8)\n",
    "data['long'] = data['minutes'].map(lambda x: x >= 0.8).astype(np.int8)"
   ]
  },
  {
   "cell_type": "code",
   "execution_count": 12,
   "metadata": {},
   "outputs": [],
   "source": [
    "data[\"online_day\"] = data['time1'].apply(lambda ts: ts.dayofweek in [0,1,3,4]).astype(np.int8)\n",
    "data[\"mon\"] = data['time1'].apply(lambda ts: ts.dayofweek in [0]).astype(np.int8) # monday\n",
    "data[\"wen\"] = data['time1'].apply(lambda ts: ts.dayofweek in [2]).astype(np.int8) # wensday\n",
    "data[\"sun\"] = data['time1'].apply(lambda ts: ts.dayofweek in [6]).astype(np.int8) # sunday"
   ]
  },
  {
   "cell_type": "code",
   "execution_count": 13,
   "metadata": {},
   "outputs": [],
   "source": [
    "data['big_site'] = data['len'].apply(lambda x: x > 5).astype(np.int8)\n",
    "data['typical_site'] = data['len'].apply(lambda x: x == 3).astype(np.int8)"
   ]
  },
  {
   "cell_type": "code",
   "execution_count": 14,
   "metadata": {},
   "outputs": [],
   "source": [
    "data['typical_domain'] = data['domain'].map(lambda x: x in ('com', 'fr', 'net', 'uk', 'org', 'tv')).astype(np.int)"
   ]
  },
  {
   "cell_type": "code",
   "execution_count": 15,
   "metadata": {},
   "outputs": [],
   "source": [
    "''' wtf?\n",
    "data['morning'] = data['time1'].apply(lambda ts: (ts.hour >= 8) & (ts.hour < 12)).astype(np.int8)\n",
    "data['day'] = data['time1'].apply(lambda ts: (ts.hour >= 12) & (ts.hour < 15)).astype(np.int8)\n",
    "data['evening'] = data['time1'].apply(lambda ts: (ts.hour >= 15) & (ts.hour < 19)).astype(np.int8)\n",
    "data['night'] = data['time1'].apply(lambda ts: (ts.hour >= 19) | (ts.hour < 8)).astype(np.int8) # or!\n",
    "'''\n",
    "\n",
    "data['morning'] = data['time1'].apply(lambda ts: (ts.hour >= 7) & (ts.hour < 12)).astype(np.int8)\n",
    "data['day'] = data['time1'].apply(lambda ts: (ts.hour >= 12) & (ts.hour < 18)).astype(np.int8)\n",
    "data['evening'] = data['time1'].apply(lambda ts: (ts.hour >= 18) & (ts.hour < 23)).astype(np.int8)\n",
    "data['night'] = data['time1'].apply(lambda ts: (ts.hour >= 23) | (ts.hour < 7)).astype(np.int8) # or!"
   ]
  },
  {
   "cell_type": "code",
   "execution_count": 16,
   "metadata": {},
   "outputs": [
    {
     "data": {
      "text/plain": [
       "Index(['site1', 'time1', 'site2', 'time2', 'site3', 'time3', 'site4', 'time4',\n",
       "       'site5', 'time5', 'site6', 'time6', 'site7', 'time7', 'site8', 'time8',\n",
       "       'site9', 'time9', 'site10', 'time10', 'target', 'seconds', 'minutes',\n",
       "       'month', 'yyyymm', 'mm', 'yyyy', 'dayofweek', 'weekend', 'hour', 'len',\n",
       "       'domain', 'short', 'long', 'online_day', 'mon', 'wen', 'sun',\n",
       "       'big_site', 'typical_site', 'typical_domain', 'morning', 'day',\n",
       "       'evening', 'night'],\n",
       "      dtype='object')"
      ]
     },
     "execution_count": 16,
     "metadata": {},
     "output_type": "execute_result"
    }
   ],
   "source": [
    "data.columns"
   ]
  },
  {
   "cell_type": "code",
   "execution_count": 17,
   "metadata": {},
   "outputs": [
    {
     "data": {
      "text/plain": [
       "Index(['seconds', 'minutes', 'month', 'yyyymm', 'mm', 'yyyy', 'dayofweek',\n",
       "       'weekend', 'hour', 'len', 'domain', 'short', 'long', 'online_day',\n",
       "       'mon', 'wen', 'sun', 'big_site', 'typical_site', 'typical_domain',\n",
       "       'morning', 'day', 'evening', 'night'],\n",
       "      dtype='object')"
      ]
     },
     "execution_count": 17,
     "metadata": {},
     "output_type": "execute_result"
    }
   ],
   "source": [
    "data.drop(times + sites + ['target'], inplace=True, axis=1)\n",
    "#data.to_pickle('dump.pkl')\n",
    "data.columns"
   ]
  },
  {
   "cell_type": "code",
   "execution_count": 20,
   "metadata": {},
   "outputs": [
    {
     "data": {
      "text/html": [
       "<div>\n",
       "<style scoped>\n",
       "    .dataframe tbody tr th:only-of-type {\n",
       "        vertical-align: middle;\n",
       "    }\n",
       "\n",
       "    .dataframe tbody tr th {\n",
       "        vertical-align: top;\n",
       "    }\n",
       "\n",
       "    .dataframe thead th {\n",
       "        text-align: right;\n",
       "    }\n",
       "</style>\n",
       "<table border=\"1\" class=\"dataframe\">\n",
       "  <thead>\n",
       "    <tr style=\"text-align: right;\">\n",
       "      <th></th>\n",
       "      <th>seconds</th>\n",
       "      <th>minutes</th>\n",
       "      <th>month</th>\n",
       "      <th>yyyymm</th>\n",
       "      <th>mm</th>\n",
       "      <th>yyyy</th>\n",
       "      <th>dayofweek</th>\n",
       "      <th>weekend</th>\n",
       "      <th>hour</th>\n",
       "      <th>len</th>\n",
       "      <th>...</th>\n",
       "      <th>mon</th>\n",
       "      <th>wen</th>\n",
       "      <th>sun</th>\n",
       "      <th>big_site</th>\n",
       "      <th>typical_site</th>\n",
       "      <th>typical_domain</th>\n",
       "      <th>morning</th>\n",
       "      <th>day</th>\n",
       "      <th>evening</th>\n",
       "      <th>night</th>\n",
       "    </tr>\n",
       "  </thead>\n",
       "  <tbody>\n",
       "    <tr>\n",
       "      <td>95127</td>\n",
       "      <td>280.0</td>\n",
       "      <td>4.67</td>\n",
       "      <td>13</td>\n",
       "      <td>201401</td>\n",
       "      <td>1</td>\n",
       "      <td>2014</td>\n",
       "      <td>2</td>\n",
       "      <td>0</td>\n",
       "      <td>16</td>\n",
       "      <td>4</td>\n",
       "      <td>...</td>\n",
       "      <td>0</td>\n",
       "      <td>1</td>\n",
       "      <td>0</td>\n",
       "      <td>0</td>\n",
       "      <td>0</td>\n",
       "      <td>0</td>\n",
       "      <td>0</td>\n",
       "      <td>1</td>\n",
       "      <td>0</td>\n",
       "      <td>0</td>\n",
       "    </tr>\n",
       "    <tr>\n",
       "      <td>10362</td>\n",
       "      <td>9.0</td>\n",
       "      <td>0.15</td>\n",
       "      <td>4</td>\n",
       "      <td>201304</td>\n",
       "      <td>4</td>\n",
       "      <td>2013</td>\n",
       "      <td>4</td>\n",
       "      <td>0</td>\n",
       "      <td>13</td>\n",
       "      <td>3</td>\n",
       "      <td>...</td>\n",
       "      <td>0</td>\n",
       "      <td>0</td>\n",
       "      <td>0</td>\n",
       "      <td>0</td>\n",
       "      <td>1</td>\n",
       "      <td>1</td>\n",
       "      <td>0</td>\n",
       "      <td>1</td>\n",
       "      <td>0</td>\n",
       "      <td>0</td>\n",
       "    </tr>\n",
       "    <tr>\n",
       "      <td>127240</td>\n",
       "      <td>9.0</td>\n",
       "      <td>0.15</td>\n",
       "      <td>14</td>\n",
       "      <td>201402</td>\n",
       "      <td>2</td>\n",
       "      <td>2014</td>\n",
       "      <td>0</td>\n",
       "      <td>0</td>\n",
       "      <td>16</td>\n",
       "      <td>3</td>\n",
       "      <td>...</td>\n",
       "      <td>1</td>\n",
       "      <td>0</td>\n",
       "      <td>0</td>\n",
       "      <td>0</td>\n",
       "      <td>1</td>\n",
       "      <td>1</td>\n",
       "      <td>0</td>\n",
       "      <td>1</td>\n",
       "      <td>0</td>\n",
       "      <td>0</td>\n",
       "    </tr>\n",
       "    <tr>\n",
       "      <td>198804</td>\n",
       "      <td>4.0</td>\n",
       "      <td>0.07</td>\n",
       "      <td>15</td>\n",
       "      <td>201403</td>\n",
       "      <td>3</td>\n",
       "      <td>2014</td>\n",
       "      <td>0</td>\n",
       "      <td>0</td>\n",
       "      <td>17</td>\n",
       "      <td>3</td>\n",
       "      <td>...</td>\n",
       "      <td>1</td>\n",
       "      <td>0</td>\n",
       "      <td>0</td>\n",
       "      <td>0</td>\n",
       "      <td>1</td>\n",
       "      <td>1</td>\n",
       "      <td>0</td>\n",
       "      <td>1</td>\n",
       "      <td>0</td>\n",
       "      <td>0</td>\n",
       "    </tr>\n",
       "    <tr>\n",
       "      <td>32766</td>\n",
       "      <td>333.0</td>\n",
       "      <td>5.55</td>\n",
       "      <td>11</td>\n",
       "      <td>201311</td>\n",
       "      <td>11</td>\n",
       "      <td>2013</td>\n",
       "      <td>1</td>\n",
       "      <td>0</td>\n",
       "      <td>10</td>\n",
       "      <td>3</td>\n",
       "      <td>...</td>\n",
       "      <td>0</td>\n",
       "      <td>0</td>\n",
       "      <td>0</td>\n",
       "      <td>0</td>\n",
       "      <td>1</td>\n",
       "      <td>1</td>\n",
       "      <td>1</td>\n",
       "      <td>0</td>\n",
       "      <td>0</td>\n",
       "      <td>0</td>\n",
       "    </tr>\n",
       "  </tbody>\n",
       "</table>\n",
       "<p>5 rows × 24 columns</p>\n",
       "</div>"
      ],
      "text/plain": [
       "        seconds  minutes  month  yyyymm  mm  yyyy  dayofweek  weekend  hour  \\\n",
       "95127     280.0     4.67     13  201401   1  2014          2        0    16   \n",
       "10362       9.0     0.15      4  201304   4  2013          4        0    13   \n",
       "127240      9.0     0.15     14  201402   2  2014          0        0    16   \n",
       "198804      4.0     0.07     15  201403   3  2014          0        0    17   \n",
       "32766     333.0     5.55     11  201311  11  2013          1        0    10   \n",
       "\n",
       "        len  ... mon  wen  sun  big_site  typical_site  typical_domain  \\\n",
       "95127     4  ...   0    1    0         0             0               0   \n",
       "10362     3  ...   0    0    0         0             1               1   \n",
       "127240    3  ...   1    0    0         0             1               1   \n",
       "198804    3  ...   1    0    0         0             1               1   \n",
       "32766     3  ...   0    0    0         0             1               1   \n",
       "\n",
       "        morning  day  evening  night  \n",
       "95127         0    1        0      0  \n",
       "10362         0    1        0      0  \n",
       "127240        0    1        0      0  \n",
       "198804        0    1        0      0  \n",
       "32766         1    0        0      0  \n",
       "\n",
       "[5 rows x 24 columns]"
      ]
     },
     "execution_count": 20,
     "metadata": {},
     "output_type": "execute_result"
    }
   ],
   "source": [
    "data.sample(5)"
   ]
  },
  {
   "cell_type": "code",
   "execution_count": 36,
   "metadata": {},
   "outputs": [],
   "source": [
    "#data = pd.get_dummies(data, columns=['domain'])"
   ]
  },
  {
   "cell_type": "code",
   "execution_count": 21,
   "metadata": {},
   "outputs": [],
   "source": [
    "data = pd.get_dummies(data, columns=[\n",
    "    'yyyy',\n",
    "    'mm',\n",
    "    'dayofweek',\n",
    "    'hour',\n",
    "    'len',\n",
    "    'domain'\n",
    "])\n",
    "\n",
    "\n",
    "\n",
    "features_to_scale = [\n",
    "    'seconds',\n",
    "    'minutes',\n",
    "    'month',\n",
    "    'yyyymm'#,\n",
    "    #'dayofweek',\n",
    "    #'hour',\n",
    "    #'len'\n",
    "]\n",
    "\n",
    "data[features_to_scale] = StandardScaler().fit_transform(data[features_to_scale])"
   ]
  },
  {
   "cell_type": "code",
   "execution_count": 23,
   "metadata": {},
   "outputs": [
    {
     "data": {
      "text/html": [
       "<div>\n",
       "<style scoped>\n",
       "    .dataframe tbody tr th:only-of-type {\n",
       "        vertical-align: middle;\n",
       "    }\n",
       "\n",
       "    .dataframe tbody tr th {\n",
       "        vertical-align: top;\n",
       "    }\n",
       "\n",
       "    .dataframe thead th {\n",
       "        text-align: right;\n",
       "    }\n",
       "</style>\n",
       "<table border=\"1\" class=\"dataframe\">\n",
       "  <thead>\n",
       "    <tr style=\"text-align: right;\">\n",
       "      <th></th>\n",
       "      <th>seconds</th>\n",
       "      <th>minutes</th>\n",
       "      <th>month</th>\n",
       "      <th>yyyymm</th>\n",
       "      <th>weekend</th>\n",
       "      <th>short</th>\n",
       "      <th>long</th>\n",
       "      <th>online_day</th>\n",
       "      <th>mon</th>\n",
       "      <th>wen</th>\n",
       "      <th>...</th>\n",
       "      <th>domain_tw</th>\n",
       "      <th>domain_ua</th>\n",
       "      <th>domain_ug</th>\n",
       "      <th>domain_uk</th>\n",
       "      <th>domain_us</th>\n",
       "      <th>domain_va</th>\n",
       "      <th>domain_vc</th>\n",
       "      <th>domain_vn</th>\n",
       "      <th>domain_ws</th>\n",
       "      <th>domain_za</th>\n",
       "    </tr>\n",
       "  </thead>\n",
       "  <tbody>\n",
       "    <tr>\n",
       "      <td>169118</td>\n",
       "      <td>-0.454969</td>\n",
       "      <td>-0.454288</td>\n",
       "      <td>0.067860</td>\n",
       "      <td>0.501532</td>\n",
       "      <td>0</td>\n",
       "      <td>1</td>\n",
       "      <td>0</td>\n",
       "      <td>1</td>\n",
       "      <td>0</td>\n",
       "      <td>0</td>\n",
       "      <td>...</td>\n",
       "      <td>0</td>\n",
       "      <td>0</td>\n",
       "      <td>0</td>\n",
       "      <td>0</td>\n",
       "      <td>0</td>\n",
       "      <td>0</td>\n",
       "      <td>0</td>\n",
       "      <td>0</td>\n",
       "      <td>0</td>\n",
       "      <td>0</td>\n",
       "    </tr>\n",
       "    <tr>\n",
       "      <td>161761</td>\n",
       "      <td>0.343100</td>\n",
       "      <td>0.343780</td>\n",
       "      <td>-0.169077</td>\n",
       "      <td>0.476232</td>\n",
       "      <td>0</td>\n",
       "      <td>0</td>\n",
       "      <td>1</td>\n",
       "      <td>1</td>\n",
       "      <td>0</td>\n",
       "      <td>0</td>\n",
       "      <td>...</td>\n",
       "      <td>0</td>\n",
       "      <td>0</td>\n",
       "      <td>0</td>\n",
       "      <td>0</td>\n",
       "      <td>0</td>\n",
       "      <td>0</td>\n",
       "      <td>0</td>\n",
       "      <td>0</td>\n",
       "      <td>0</td>\n",
       "      <td>0</td>\n",
       "    </tr>\n",
       "    <tr>\n",
       "      <td>164042</td>\n",
       "      <td>0.680745</td>\n",
       "      <td>0.681425</td>\n",
       "      <td>-0.169077</td>\n",
       "      <td>0.476232</td>\n",
       "      <td>0</td>\n",
       "      <td>0</td>\n",
       "      <td>1</td>\n",
       "      <td>1</td>\n",
       "      <td>0</td>\n",
       "      <td>0</td>\n",
       "      <td>...</td>\n",
       "      <td>0</td>\n",
       "      <td>0</td>\n",
       "      <td>0</td>\n",
       "      <td>0</td>\n",
       "      <td>0</td>\n",
       "      <td>0</td>\n",
       "      <td>0</td>\n",
       "      <td>0</td>\n",
       "      <td>0</td>\n",
       "      <td>0</td>\n",
       "    </tr>\n",
       "    <tr>\n",
       "      <td>199632</td>\n",
       "      <td>-0.069577</td>\n",
       "      <td>-0.069578</td>\n",
       "      <td>0.067860</td>\n",
       "      <td>0.501532</td>\n",
       "      <td>0</td>\n",
       "      <td>0</td>\n",
       "      <td>1</td>\n",
       "      <td>1</td>\n",
       "      <td>0</td>\n",
       "      <td>0</td>\n",
       "      <td>...</td>\n",
       "      <td>0</td>\n",
       "      <td>0</td>\n",
       "      <td>0</td>\n",
       "      <td>0</td>\n",
       "      <td>0</td>\n",
       "      <td>0</td>\n",
       "      <td>0</td>\n",
       "      <td>0</td>\n",
       "      <td>0</td>\n",
       "      <td>0</td>\n",
       "    </tr>\n",
       "    <tr>\n",
       "      <td>5087</td>\n",
       "      <td>-0.444737</td>\n",
       "      <td>-0.444057</td>\n",
       "      <td>-2.775387</td>\n",
       "      <td>-2.028476</td>\n",
       "      <td>0</td>\n",
       "      <td>1</td>\n",
       "      <td>0</td>\n",
       "      <td>1</td>\n",
       "      <td>0</td>\n",
       "      <td>0</td>\n",
       "      <td>...</td>\n",
       "      <td>0</td>\n",
       "      <td>0</td>\n",
       "      <td>0</td>\n",
       "      <td>0</td>\n",
       "      <td>0</td>\n",
       "      <td>0</td>\n",
       "      <td>0</td>\n",
       "      <td>0</td>\n",
       "      <td>0</td>\n",
       "      <td>0</td>\n",
       "    </tr>\n",
       "  </tbody>\n",
       "</table>\n",
       "<p>5 rows × 229 columns</p>\n",
       "</div>"
      ],
      "text/plain": [
       "         seconds   minutes     month    yyyymm  weekend  short  long  \\\n",
       "169118 -0.454969 -0.454288  0.067860  0.501532        0      1     0   \n",
       "161761  0.343100  0.343780 -0.169077  0.476232        0      0     1   \n",
       "164042  0.680745  0.681425 -0.169077  0.476232        0      0     1   \n",
       "199632 -0.069577 -0.069578  0.067860  0.501532        0      0     1   \n",
       "5087   -0.444737 -0.444057 -2.775387 -2.028476        0      1     0   \n",
       "\n",
       "        online_day  mon  wen  ...  domain_tw  domain_ua  domain_ug  domain_uk  \\\n",
       "169118           1    0    0  ...          0          0          0          0   \n",
       "161761           1    0    0  ...          0          0          0          0   \n",
       "164042           1    0    0  ...          0          0          0          0   \n",
       "199632           1    0    0  ...          0          0          0          0   \n",
       "5087             1    0    0  ...          0          0          0          0   \n",
       "\n",
       "        domain_us  domain_va  domain_vc  domain_vn  domain_ws  domain_za  \n",
       "169118          0          0          0          0          0          0  \n",
       "161761          0          0          0          0          0          0  \n",
       "164042          0          0          0          0          0          0  \n",
       "199632          0          0          0          0          0          0  \n",
       "5087            0          0          0          0          0          0  \n",
       "\n",
       "[5 rows x 229 columns]"
      ]
     },
     "execution_count": 23,
     "metadata": {},
     "output_type": "execute_result"
    }
   ],
   "source": [
    "data.sample(5)"
   ]
  },
  {
   "cell_type": "code",
   "execution_count": 25,
   "metadata": {},
   "outputs": [
    {
     "name": "stdout",
     "output_type": "stream",
     "text": [
      "Fitting 10 folds for each of 20 candidates, totalling 200 fits\n"
     ]
    },
    {
     "name": "stderr",
     "output_type": "stream",
     "text": [
      "[Parallel(n_jobs=-1)]: Using backend LokyBackend with 4 concurrent workers.\n",
      "[Parallel(n_jobs=-1)]: Done  42 tasks      | elapsed:  2.0min\n",
      "[Parallel(n_jobs=-1)]: Done 192 tasks      | elapsed: 56.2min\n",
      "[Parallel(n_jobs=-1)]: Done 200 out of 200 | elapsed: 58.1min finished\n"
     ]
    },
    {
     "name": "stdout",
     "output_type": "stream",
     "text": [
      "Wall time: 58min 27s\n"
     ]
    },
    {
     "data": {
      "text/plain": [
       "(LogisticRegression(C=4.6415888336127775, class_weight=None, dual=False,\n",
       "                    fit_intercept=True, intercept_scaling=1, l1_ratio=None,\n",
       "                    max_iter=100, multi_class='warn', n_jobs=None, penalty='l2',\n",
       "                    random_state=17, solver='liblinear', tol=0.0001, verbose=0,\n",
       "                    warm_start=False),\n",
       " 0.9127606549387459,\n",
       " {'C': 4.6415888336127775, 'penalty': 'l2'})"
      ]
     },
     "execution_count": 25,
     "metadata": {},
     "output_type": "execute_result"
    }
   ],
   "source": [
    "%%time\n",
    "\n",
    "#model = LogisticRegression(random_state=17, solver='liblinear')\n",
    "#time_split = TimeSeriesSplit(n_splits=10)\n",
    "\n",
    "X_train = csr_matrix(hstack([words[:idx], data[:idx]]))\n",
    "y_train = train.target\n",
    "\n",
    "params = {\n",
    "    'C': np.logspace(-2, 2, 10),\n",
    "    'penalty': ['l1','l2']\n",
    "}\n",
    "\n",
    "grid = GridSearchCV(estimator=model, param_grid=params, scoring='roc_auc', cv=time_split, verbose=1, n_jobs=-1)\n",
    "grid.fit(X_train, y_train)\n",
    "\n",
    "grid.best_estimator_, grid.best_score_, grid.best_params_"
   ]
  },
  {
   "cell_type": "code",
   "execution_count": 26,
   "metadata": {},
   "outputs": [
    {
     "name": "stdout",
     "output_type": "stream",
     "text": [
      "Wall time: 21.4 s\n"
     ]
    }
   ],
   "source": [
    "%%time\n",
    "model = grid.best_estimator_\n",
    "model.fit(X_train, y_train)\n",
    "\n",
    "X_test = csr_matrix(hstack([words[idx:], data[idx:]]))\n",
    "y_test = model.predict_proba(X_test)[:, 1]\n",
    "\n",
    "submission = pd.DataFrame({\"session_id\": test.index, \"target\": y_test})\n",
    "submission.to_csv('submission.csv', index=False)"
   ]
  },
  {
   "cell_type": "code",
   "execution_count": null,
   "metadata": {},
   "outputs": [],
   "source": []
  }
 ],
 "metadata": {
  "kernelspec": {
   "display_name": "Python 3",
   "language": "python",
   "name": "python3"
  },
  "language_info": {
   "codemirror_mode": {
    "name": "ipython",
    "version": 3
   },
   "file_extension": ".py",
   "mimetype": "text/x-python",
   "name": "python",
   "nbconvert_exporter": "python",
   "pygments_lexer": "ipython3",
   "version": "3.7.1"
  }
 },
 "nbformat": 4,
 "nbformat_minor": 4
}
