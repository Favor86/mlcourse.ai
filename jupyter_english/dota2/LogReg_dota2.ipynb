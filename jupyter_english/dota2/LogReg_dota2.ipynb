{
 "cells": [
  {
   "cell_type": "code",
   "execution_count": 2,
   "metadata": {},
   "outputs": [],
   "source": [
    "import pandas as pd\n",
    "import numpy as np\n",
    "import os\n",
    "import datetime\n",
    "from scipy.sparse import hstack, csr_matrix"
   ]
  },
  {
   "cell_type": "code",
   "execution_count": 3,
   "metadata": {},
   "outputs": [],
   "source": [
    "PATH = '../../../../data/dota2/'\n",
    "#PATH = '../../../data/dota2/'"
   ]
  },
  {
   "cell_type": "code",
   "execution_count": 70,
   "metadata": {},
   "outputs": [
    {
     "data": {
      "text/plain": [
       "((39675, 245), (10000, 245), (39675, 5))"
      ]
     },
     "execution_count": 70,
     "metadata": {},
     "output_type": "execute_result"
    }
   ],
   "source": [
    "df_train_features = pd.read_csv(os.path.join(PATH, 'train_features.csv.zip'), index_col='match_id_hash')\n",
    "df_test_features = pd.read_csv(os.path.join(PATH, 'test_features.csv.zip'), index_col='match_id_hash')\n",
    "df_train_targets = pd.read_csv(os.path.join(PATH, 'train_targets.csv.zip'), index_col='match_id_hash')\n",
    "\n",
    "df_train_features.shape, df_test_features.shape, df_train_targets.shape"
   ]
  },
  {
   "cell_type": "code",
   "execution_count": 72,
   "metadata": {},
   "outputs": [],
   "source": [
    "df_train_features = df_train_features.fillna(0)"
   ]
  },
  {
   "cell_type": "code",
   "execution_count": 107,
   "metadata": {},
   "outputs": [],
   "source": [
    "for col in df_train_features.columns:\n",
    "    if df_train_features[np.isnan(df_train_features[col])].shape[0] != 0:\n",
    "        print('There is {0} nan-values in column {1}'.format(df_train_features[np.isnan(df_train_features[col])].shape[0], col))"
   ]
  },
  {
   "cell_type": "code",
   "execution_count": 103,
   "metadata": {},
   "outputs": [
    {
     "data": {
      "text/html": [
       "<div>\n",
       "<style scoped>\n",
       "    .dataframe tbody tr th:only-of-type {\n",
       "        vertical-align: middle;\n",
       "    }\n",
       "\n",
       "    .dataframe tbody tr th {\n",
       "        vertical-align: top;\n",
       "    }\n",
       "\n",
       "    .dataframe thead th {\n",
       "        text-align: right;\n",
       "    }\n",
       "</style>\n",
       "<table border=\"1\" class=\"dataframe\">\n",
       "  <thead>\n",
       "    <tr style=\"text-align: right;\">\n",
       "      <th></th>\n",
       "      <th>game_time</th>\n",
       "      <th>game_mode</th>\n",
       "      <th>lobby_type</th>\n",
       "      <th>objectives_len</th>\n",
       "      <th>chat_len</th>\n",
       "      <th>r1_hero_id</th>\n",
       "      <th>r1_kills</th>\n",
       "      <th>r1_deaths</th>\n",
       "      <th>r1_assists</th>\n",
       "      <th>r1_denies</th>\n",
       "      <th>...</th>\n",
       "      <th>mean_obs_placed_ratio</th>\n",
       "      <th>r_total_sen_placed</th>\n",
       "      <th>d_total_sen_placed</th>\n",
       "      <th>total_sen_placed_ratio</th>\n",
       "      <th>r_std_sen_placed</th>\n",
       "      <th>d_std_sen_placed</th>\n",
       "      <th>std_sen_placed_ratio</th>\n",
       "      <th>r_mean_sen_placed</th>\n",
       "      <th>d_mean_sen_placed</th>\n",
       "      <th>mean_sen_placed_ratio</th>\n",
       "    </tr>\n",
       "    <tr>\n",
       "      <th>match_id_hash</th>\n",
       "      <th></th>\n",
       "      <th></th>\n",
       "      <th></th>\n",
       "      <th></th>\n",
       "      <th></th>\n",
       "      <th></th>\n",
       "      <th></th>\n",
       "      <th></th>\n",
       "      <th></th>\n",
       "      <th></th>\n",
       "      <th></th>\n",
       "      <th></th>\n",
       "      <th></th>\n",
       "      <th></th>\n",
       "      <th></th>\n",
       "      <th></th>\n",
       "      <th></th>\n",
       "      <th></th>\n",
       "      <th></th>\n",
       "      <th></th>\n",
       "      <th></th>\n",
       "    </tr>\n",
       "  </thead>\n",
       "  <tbody>\n",
       "  </tbody>\n",
       "</table>\n",
       "<p>0 rows × 452 columns</p>\n",
       "</div>"
      ],
      "text/plain": [
       "Empty DataFrame\n",
       "Columns: [game_time, game_mode, lobby_type, objectives_len, chat_len, r1_hero_id, r1_kills, r1_deaths, r1_assists, r1_denies, r1_gold, r1_lh, r1_xp, r1_health, r1_max_health, r1_max_mana, r1_level, r1_x, r1_y, r1_stuns, r1_creeps_stacked, r1_camps_stacked, r1_rune_pickups, r1_firstblood_claimed, r1_teamfight_participation, r1_towers_killed, r1_roshans_killed, r1_obs_placed, r1_sen_placed, r2_hero_id, r2_kills, r2_deaths, r2_assists, r2_denies, r2_gold, r2_lh, r2_xp, r2_health, r2_max_health, r2_max_mana, r2_level, r2_x, r2_y, r2_stuns, r2_creeps_stacked, r2_camps_stacked, r2_rune_pickups, r2_firstblood_claimed, r2_teamfight_participation, r2_towers_killed, r2_roshans_killed, r2_obs_placed, r2_sen_placed, r3_hero_id, r3_kills, r3_deaths, r3_assists, r3_denies, r3_gold, r3_lh, r3_xp, r3_health, r3_max_health, r3_max_mana, r3_level, r3_x, r3_y, r3_stuns, r3_creeps_stacked, r3_camps_stacked, r3_rune_pickups, r3_firstblood_claimed, r3_teamfight_participation, r3_towers_killed, r3_roshans_killed, r3_obs_placed, r3_sen_placed, r4_hero_id, r4_kills, r4_deaths, r4_assists, r4_denies, r4_gold, r4_lh, r4_xp, r4_health, r4_max_health, r4_max_mana, r4_level, r4_x, r4_y, r4_stuns, r4_creeps_stacked, r4_camps_stacked, r4_rune_pickups, r4_firstblood_claimed, r4_teamfight_participation, r4_towers_killed, r4_roshans_killed, r4_obs_placed, ...]\n",
       "Index: []\n",
       "\n",
       "[0 rows x 452 columns]"
      ]
     },
     "execution_count": 103,
     "metadata": {},
     "output_type": "execute_result"
    }
   ],
   "source": [
    "df_train_features[np.isinf(df_train_features[df_train_features.columns[-1]])]"
   ]
  },
  {
   "cell_type": "code",
   "execution_count": 92,
   "metadata": {},
   "outputs": [
    {
     "ename": "ValueError",
     "evalue": "invalid number of arguments",
     "output_type": "error",
     "traceback": [
      "\u001b[1;31m---------------------------------------------------------------------------\u001b[0m",
      "\u001b[1;31mValueError\u001b[0m                                Traceback (most recent call last)",
      "\u001b[1;32m<ipython-input-92-03494aaf5c52>\u001b[0m in \u001b[0;36m<module>\u001b[1;34m\u001b[0m\n\u001b[1;32m----> 1\u001b[1;33m \u001b[0mdf_train_features\u001b[0m\u001b[1;33m[\u001b[0m\u001b[0mnp\u001b[0m\u001b[1;33m.\u001b[0m\u001b[0misinf\u001b[0m\u001b[1;33m(\u001b[0m\u001b[1;33m)\u001b[0m\u001b[1;33m]\u001b[0m\u001b[1;31m#[['mean_sen_placed_ratio']].info()\u001b[0m\u001b[1;33m\u001b[0m\u001b[1;33m\u001b[0m\u001b[0m\n\u001b[0m",
      "\u001b[1;31mValueError\u001b[0m: invalid number of arguments"
     ]
    }
   ],
   "source": [
    "df_train_features[np.isinf()]#[['mean_sen_placed_ratio']].info()"
   ]
  },
  {
   "cell_type": "code",
   "execution_count": 127,
   "metadata": {},
   "outputs": [],
   "source": [
    "#df_train_features = df_train_features.replace([np.inf, -np.inf], np.nan)\n",
    "#df_train_features = df_train_features.fillna(0)\n",
    "#df_test_features = df_test_features.replace([np.inf, -np.inf], np.nan)\n",
    "df_test_features = df_test_features.fillna(0)"
   ]
  },
  {
   "cell_type": "code",
   "execution_count": 79,
   "metadata": {},
   "outputs": [],
   "source": [
    "for c in ['kills', 'deaths', 'assists', 'denies', 'gold', 'lh', 'xp', 'health', 'max_health', 'max_mana', 'level', 'x', 'y', 'stuns', 'creeps_stacked', 'camps_stacked', 'rune_pickups',\n",
    "          'firstblood_claimed', 'teamfight_participation', 'towers_killed', 'roshans_killed', 'obs_placed', 'sen_placed']:\n",
    "    r_columns = [f'r{i}_{c}' for i in range(1, 6)]\n",
    "    d_columns = [f'd{i}_{c}' for i in range(1, 6)]\n",
    "    \n",
    "    df_train_features['r_total_' + c] = (df_train_features[r_columns].sum(1)).astype(np.float64)\n",
    "    df_train_features['d_total_' + c] = (df_train_features[d_columns].sum(1)).astype(np.float64)\n",
    "    df_train_features['total_' + c + '_ratio'] = (df_train_features['r_total_' + c] / df_train_features['d_total_' + c]).astype(np.float64)\n",
    "    \n",
    "    df_test_features['r_total_' + c] = (df_test_features[r_columns].sum(1)).astype(np.float64)\n",
    "    df_test_features['d_total_' + c] = (df_test_features[d_columns].sum(1)).astype(np.float64)\n",
    "    df_test_features['total_' + c + '_ratio'] = (df_test_features['r_total_' + c] / df_test_features['d_total_' + c]).astype(np.float64)\n",
    "    \n",
    "    df_train_features['r_std_' + c] = (df_train_features[r_columns].std(1)).astype(np.float64)\n",
    "    df_train_features['d_std_' + c] = (df_train_features[d_columns].std(1)).astype(np.float64)\n",
    "    df_train_features['std_' + c + '_ratio'] = (df_train_features['r_std_' + c] / df_train_features['d_std_' + c]).astype(np.float64)\n",
    "    \n",
    "    df_test_features['r_std_' + c] = (df_test_features[r_columns].std(1)).astype(np.float64)\n",
    "    df_test_features['d_std_' + c] = (df_test_features[d_columns].std(1)).astype(np.float64)\n",
    "    df_test_features['std_' + c + '_ratio'] = (df_test_features['r_std_' + c] / df_test_features['d_std_' + c]).astype(np.float64)\n",
    "    \n",
    "    df_train_features['r_mean_' + c] = (df_train_features[r_columns].mean(1)).astype(np.float64)\n",
    "    df_train_features['d_mean_' + c] = (df_train_features[d_columns].mean(1)).astype(np.float64)\n",
    "    df_train_features['mean_' + c + '_ratio'] = (df_train_features['r_mean_' + c] / df_train_features['d_mean_' + c]).astype(np.float64)\n",
    "    \n",
    "    df_test_features['r_mean_' + c] = (df_test_features[r_columns].mean(1)).astype(np.float64)\n",
    "    df_test_features['d_mean_' + c] = (df_test_features[d_columns].mean(1)).astype(np.float64)\n",
    "    df_test_features['mean_' + c + '_ratio'] = (df_test_features['r_mean_' + c] / df_test_features['d_mean_' + c]).astype(np.float64)"
   ]
  },
  {
   "cell_type": "code",
   "execution_count": 7,
   "metadata": {
    "collapsed": true,
    "jupyter": {
     "outputs_hidden": true
    }
   },
   "outputs": [
    {
     "name": "stdout",
     "output_type": "stream",
     "text": [
      "game_time\n",
      "game_mode\n",
      "lobby_type\n",
      "objectives_len\n",
      "chat_len\n",
      "r1_hero_id\n",
      "r1_kills\n",
      "r1_deaths\n",
      "r1_assists\n",
      "r1_denies\n",
      "r1_gold\n",
      "r1_lh\n",
      "r1_xp\n",
      "r1_health\n",
      "r1_max_health\n",
      "r1_max_mana\n",
      "r1_level\n",
      "r1_x\n",
      "r1_y\n",
      "r1_stuns\n",
      "r1_creeps_stacked\n",
      "r1_camps_stacked\n",
      "r1_rune_pickups\n",
      "r1_firstblood_claimed\n",
      "r1_teamfight_participation\n",
      "r1_towers_killed\n",
      "r1_roshans_killed\n",
      "r1_obs_placed\n",
      "r1_sen_placed\n",
      "r2_hero_id\n",
      "r2_kills\n",
      "r2_deaths\n",
      "r2_assists\n",
      "r2_denies\n",
      "r2_gold\n",
      "r2_lh\n",
      "r2_xp\n",
      "r2_health\n",
      "r2_max_health\n",
      "r2_max_mana\n",
      "r2_level\n",
      "r2_x\n",
      "r2_y\n",
      "r2_stuns\n",
      "r2_creeps_stacked\n",
      "r2_camps_stacked\n",
      "r2_rune_pickups\n",
      "r2_firstblood_claimed\n",
      "r2_teamfight_participation\n",
      "r2_towers_killed\n",
      "r2_roshans_killed\n",
      "r2_obs_placed\n",
      "r2_sen_placed\n",
      "r3_hero_id\n",
      "r3_kills\n",
      "r3_deaths\n",
      "r3_assists\n",
      "r3_denies\n",
      "r3_gold\n",
      "r3_lh\n",
      "r3_xp\n",
      "r3_health\n",
      "r3_max_health\n",
      "r3_max_mana\n",
      "r3_level\n",
      "r3_x\n",
      "r3_y\n",
      "r3_stuns\n",
      "r3_creeps_stacked\n",
      "r3_camps_stacked\n",
      "r3_rune_pickups\n",
      "r3_firstblood_claimed\n",
      "r3_teamfight_participation\n",
      "r3_towers_killed\n",
      "r3_roshans_killed\n",
      "r3_obs_placed\n",
      "r3_sen_placed\n",
      "r4_hero_id\n",
      "r4_kills\n",
      "r4_deaths\n",
      "r4_assists\n",
      "r4_denies\n",
      "r4_gold\n",
      "r4_lh\n",
      "r4_xp\n",
      "r4_health\n",
      "r4_max_health\n",
      "r4_max_mana\n",
      "r4_level\n",
      "r4_x\n",
      "r4_y\n",
      "r4_stuns\n",
      "r4_creeps_stacked\n",
      "r4_camps_stacked\n",
      "r4_rune_pickups\n",
      "r4_firstblood_claimed\n",
      "r4_teamfight_participation\n",
      "r4_towers_killed\n",
      "r4_roshans_killed\n",
      "r4_obs_placed\n",
      "r4_sen_placed\n",
      "r5_hero_id\n",
      "r5_kills\n",
      "r5_deaths\n",
      "r5_assists\n",
      "r5_denies\n",
      "r5_gold\n",
      "r5_lh\n",
      "r5_xp\n",
      "r5_health\n",
      "r5_max_health\n",
      "r5_max_mana\n",
      "r5_level\n",
      "r5_x\n",
      "r5_y\n",
      "r5_stuns\n",
      "r5_creeps_stacked\n",
      "r5_camps_stacked\n",
      "r5_rune_pickups\n",
      "r5_firstblood_claimed\n",
      "r5_teamfight_participation\n",
      "r5_towers_killed\n",
      "r5_roshans_killed\n",
      "r5_obs_placed\n",
      "r5_sen_placed\n",
      "d1_hero_id\n",
      "d1_kills\n",
      "d1_deaths\n",
      "d1_assists\n",
      "d1_denies\n",
      "d1_gold\n",
      "d1_lh\n",
      "d1_xp\n",
      "d1_health\n",
      "d1_max_health\n",
      "d1_max_mana\n",
      "d1_level\n",
      "d1_x\n",
      "d1_y\n",
      "d1_stuns\n",
      "d1_creeps_stacked\n",
      "d1_camps_stacked\n",
      "d1_rune_pickups\n",
      "d1_firstblood_claimed\n",
      "d1_teamfight_participation\n",
      "d1_towers_killed\n",
      "d1_roshans_killed\n",
      "d1_obs_placed\n",
      "d1_sen_placed\n",
      "d2_hero_id\n",
      "d2_kills\n",
      "d2_deaths\n",
      "d2_assists\n",
      "d2_denies\n",
      "d2_gold\n",
      "d2_lh\n",
      "d2_xp\n",
      "d2_health\n",
      "d2_max_health\n",
      "d2_max_mana\n",
      "d2_level\n",
      "d2_x\n",
      "d2_y\n",
      "d2_stuns\n",
      "d2_creeps_stacked\n",
      "d2_camps_stacked\n",
      "d2_rune_pickups\n",
      "d2_firstblood_claimed\n",
      "d2_teamfight_participation\n",
      "d2_towers_killed\n",
      "d2_roshans_killed\n",
      "d2_obs_placed\n",
      "d2_sen_placed\n",
      "d3_hero_id\n",
      "d3_kills\n",
      "d3_deaths\n",
      "d3_assists\n",
      "d3_denies\n",
      "d3_gold\n",
      "d3_lh\n",
      "d3_xp\n",
      "d3_health\n",
      "d3_max_health\n",
      "d3_max_mana\n",
      "d3_level\n",
      "d3_x\n",
      "d3_y\n",
      "d3_stuns\n",
      "d3_creeps_stacked\n",
      "d3_camps_stacked\n",
      "d3_rune_pickups\n",
      "d3_firstblood_claimed\n",
      "d3_teamfight_participation\n",
      "d3_towers_killed\n",
      "d3_roshans_killed\n",
      "d3_obs_placed\n",
      "d3_sen_placed\n",
      "d4_hero_id\n",
      "d4_kills\n",
      "d4_deaths\n",
      "d4_assists\n",
      "d4_denies\n",
      "d4_gold\n",
      "d4_lh\n",
      "d4_xp\n",
      "d4_health\n",
      "d4_max_health\n",
      "d4_max_mana\n",
      "d4_level\n",
      "d4_x\n",
      "d4_y\n",
      "d4_stuns\n",
      "d4_creeps_stacked\n",
      "d4_camps_stacked\n",
      "d4_rune_pickups\n",
      "d4_firstblood_claimed\n",
      "d4_teamfight_participation\n",
      "d4_towers_killed\n",
      "d4_roshans_killed\n",
      "d4_obs_placed\n",
      "d4_sen_placed\n",
      "d5_hero_id\n",
      "d5_kills\n",
      "d5_deaths\n",
      "d5_assists\n",
      "d5_denies\n",
      "d5_gold\n",
      "d5_lh\n",
      "d5_xp\n",
      "d5_health\n",
      "d5_max_health\n",
      "d5_max_mana\n",
      "d5_level\n",
      "d5_x\n",
      "d5_y\n",
      "d5_stuns\n",
      "d5_creeps_stacked\n",
      "d5_camps_stacked\n",
      "d5_rune_pickups\n",
      "d5_firstblood_claimed\n",
      "d5_teamfight_participation\n",
      "d5_towers_killed\n",
      "d5_roshans_killed\n",
      "d5_obs_placed\n",
      "d5_sen_placed\n"
     ]
    }
   ],
   "source": [
    "for feat in df_train_features.columns:\n",
    "    print(feat)"
   ]
  },
  {
   "cell_type": "code",
   "execution_count": 65,
   "metadata": {},
   "outputs": [
    {
     "data": {
      "text/html": [
       "<div>\n",
       "<style scoped>\n",
       "    .dataframe tbody tr th:only-of-type {\n",
       "        vertical-align: middle;\n",
       "    }\n",
       "\n",
       "    .dataframe tbody tr th {\n",
       "        vertical-align: top;\n",
       "    }\n",
       "\n",
       "    .dataframe thead th {\n",
       "        text-align: right;\n",
       "    }\n",
       "</style>\n",
       "<table border=\"1\" class=\"dataframe\">\n",
       "  <thead>\n",
       "    <tr style=\"text-align: right;\">\n",
       "      <th></th>\n",
       "      <th>game_time</th>\n",
       "      <th>radiant_win</th>\n",
       "      <th>duration</th>\n",
       "      <th>time_remaining</th>\n",
       "      <th>next_roshan_team</th>\n",
       "    </tr>\n",
       "    <tr>\n",
       "      <th>match_id_hash</th>\n",
       "      <th></th>\n",
       "      <th></th>\n",
       "      <th></th>\n",
       "      <th></th>\n",
       "      <th></th>\n",
       "    </tr>\n",
       "  </thead>\n",
       "  <tbody>\n",
       "    <tr>\n",
       "      <th>a400b8f29dece5f4d266f49f1ae2e98a</th>\n",
       "      <td>155</td>\n",
       "      <td>False</td>\n",
       "      <td>992</td>\n",
       "      <td>837</td>\n",
       "      <td>NaN</td>\n",
       "    </tr>\n",
       "    <tr>\n",
       "      <th>b9c57c450ce74a2af79c9ce96fac144d</th>\n",
       "      <td>658</td>\n",
       "      <td>True</td>\n",
       "      <td>1154</td>\n",
       "      <td>496</td>\n",
       "      <td>NaN</td>\n",
       "    </tr>\n",
       "    <tr>\n",
       "      <th>6db558535151ea18ca70a6892197db41</th>\n",
       "      <td>21</td>\n",
       "      <td>True</td>\n",
       "      <td>1503</td>\n",
       "      <td>1482</td>\n",
       "      <td>Radiant</td>\n",
       "    </tr>\n",
       "    <tr>\n",
       "      <th>46a0ddce8f7ed2a8d9bd5edcbb925682</th>\n",
       "      <td>576</td>\n",
       "      <td>True</td>\n",
       "      <td>1952</td>\n",
       "      <td>1376</td>\n",
       "      <td>NaN</td>\n",
       "    </tr>\n",
       "    <tr>\n",
       "      <th>b1b35ff97723d9b7ade1c9c3cf48f770</th>\n",
       "      <td>453</td>\n",
       "      <td>False</td>\n",
       "      <td>2001</td>\n",
       "      <td>1548</td>\n",
       "      <td>NaN</td>\n",
       "    </tr>\n",
       "  </tbody>\n",
       "</table>\n",
       "</div>"
      ],
      "text/plain": [
       "                                  game_time  radiant_win  duration  \\\n",
       "match_id_hash                                                        \n",
       "a400b8f29dece5f4d266f49f1ae2e98a        155        False       992   \n",
       "b9c57c450ce74a2af79c9ce96fac144d        658         True      1154   \n",
       "6db558535151ea18ca70a6892197db41         21         True      1503   \n",
       "46a0ddce8f7ed2a8d9bd5edcbb925682        576         True      1952   \n",
       "b1b35ff97723d9b7ade1c9c3cf48f770        453        False      2001   \n",
       "\n",
       "                                  time_remaining next_roshan_team  \n",
       "match_id_hash                                                      \n",
       "a400b8f29dece5f4d266f49f1ae2e98a             837              NaN  \n",
       "b9c57c450ce74a2af79c9ce96fac144d             496              NaN  \n",
       "6db558535151ea18ca70a6892197db41            1482          Radiant  \n",
       "46a0ddce8f7ed2a8d9bd5edcbb925682            1376              NaN  \n",
       "b1b35ff97723d9b7ade1c9c3cf48f770            1548              NaN  "
      ]
     },
     "execution_count": 65,
     "metadata": {},
     "output_type": "execute_result"
    }
   ],
   "source": [
    "df_train_targets.head()"
   ]
  },
  {
   "cell_type": "code",
   "execution_count": 7,
   "metadata": {},
   "outputs": [],
   "source": [
    "from sklearn.linear_model import LogisticRegression\n",
    "from sklearn.ensemble import RandomForestClassifier\n",
    "from sklearn.model_selection import train_test_split, cross_val_score, GridSearchCV, TimeSeriesSplit\n",
    "from sklearn.metrics import roc_auc_score, accuracy_score\n",
    "from sklearn.preprocessing import StandardScaler"
   ]
  },
  {
   "cell_type": "code",
   "execution_count": 108,
   "metadata": {},
   "outputs": [],
   "source": [
    "X = df_train_features.values\n",
    "y = df_train_targets['radiant_win'].values"
   ]
  },
  {
   "cell_type": "code",
   "execution_count": 109,
   "metadata": {},
   "outputs": [
    {
     "data": {
      "text/plain": [
       "(27772, 11903, 27772, 11903)"
      ]
     },
     "execution_count": 109,
     "metadata": {},
     "output_type": "execute_result"
    }
   ],
   "source": [
    "X_train, X_test, y_train, y_test = train_test_split(X, y, test_size=0.3, random_state=17)\n",
    "len(X_train), len(X_test), y_train.size, y_test.size"
   ]
  },
  {
   "cell_type": "code",
   "execution_count": 110,
   "metadata": {},
   "outputs": [],
   "source": [
    "scaler = StandardScaler()"
   ]
  },
  {
   "cell_type": "code",
   "execution_count": 120,
   "metadata": {},
   "outputs": [
    {
     "name": "stdout",
     "output_type": "stream",
     "text": [
      "Wall time: 628 ms\n"
     ]
    }
   ],
   "source": [
    "%%time\n",
    "\n",
    "X_train_scaled = scaler.fit_transform(X_train)\n",
    "X_test_scaled = scaler.transform(X_test)"
   ]
  },
  {
   "cell_type": "code",
   "execution_count": 121,
   "metadata": {},
   "outputs": [],
   "source": [
    "X_train_scaled_csr = csr_matrix(X_train_scaled)\n",
    "X_test_scaled_csr = csr_matrix(X_test_scaled)"
   ]
  },
  {
   "cell_type": "code",
   "execution_count": 122,
   "metadata": {},
   "outputs": [
    {
     "name": "stderr",
     "output_type": "stream",
     "text": [
      "C:\\ProgramData\\Anaconda3\\lib\\site-packages\\sklearn\\linear_model\\logistic.py:1544: UserWarning: 'n_jobs' > 1 does not have any effect when 'solver' is set to 'liblinear'. Got 'n_jobs' = 4.\n",
      "  \" = {}.\".format(effective_n_jobs(self.n_jobs)))\n"
     ]
    },
    {
     "name": "stdout",
     "output_type": "stream",
     "text": [
      "Wall time: 8min 54s\n"
     ]
    },
    {
     "data": {
      "text/plain": [
       "GridSearchCV(cv=5, error_score='raise-deprecating',\n",
       "             estimator=LogisticRegression(C=1.0, class_weight=None, dual=False,\n",
       "                                          fit_intercept=True,\n",
       "                                          intercept_scaling=1, l1_ratio=None,\n",
       "                                          max_iter=100, multi_class='warn',\n",
       "                                          n_jobs=4, penalty='l2',\n",
       "                                          random_state=17, solver='liblinear',\n",
       "                                          tol=0.0001, verbose=0,\n",
       "                                          warm_start=False),\n",
       "             iid='warn', n_jobs=4,\n",
       "             param_grid={'C': array([ 0.01      ,  0.0143845 ,  0.02069138,  0.02976351,  0.04281332,\n",
       "        0.06158482,  0.08858668,  0.1274275 ,  0.18329807,  0.26366509,\n",
       "        0.37926902,  0.54555948,  0.78475997,  1.12883789,  1.62377674,\n",
       "        2.33572147,  3.35981829,  4.83293024,  6.95192796, 10.        ])},\n",
       "             pre_dispatch='2*n_jobs', refit=True, return_train_score=False,\n",
       "             scoring='roc_auc', verbose=0)"
      ]
     },
     "execution_count": 122,
     "metadata": {},
     "output_type": "execute_result"
    }
   ],
   "source": [
    "%%time\n",
    "\n",
    "c_values = np.logspace(-2, 1, 20)\n",
    "\n",
    "model_sc_csr = LogisticRegression(random_state=17, n_jobs=4, solver='liblinear')\n",
    "logit_grid_searcher = GridSearchCV(estimator=model_sc_csr, param_grid={'C': c_values},\n",
    "                                       scoring='roc_auc',return_train_score=False, cv=5,\n",
    "                                       n_jobs=4, verbose=0)\n",
    "logit_grid_searcher.fit(X_train_scaled_csr, y_train)"
   ]
  },
  {
   "cell_type": "code",
   "execution_count": 123,
   "metadata": {},
   "outputs": [
    {
     "name": "stdout",
     "output_type": "stream",
     "text": [
      "CV scores: [0.8182324038081776, 0.8297694942446692, 0.812195697494593, 0.8175463641014539, 0.8171334442340408]\n",
      "Mean: 0.8189754807765869, std: 0.005804546917307925\n",
      "\n"
     ]
    }
   ],
   "source": [
    "cv_scores = []\n",
    "for i in range(logit_grid_searcher.n_splits_):\n",
    "    cv_scores.append(logit_grid_searcher.cv_results_[f'split{i}_test_score'][logit_grid_searcher.best_index_])\n",
    "print(f'CV scores: {cv_scores}')\n",
    "print(f'Mean: {np.mean(cv_scores)}, std: {np.std(cv_scores)}\\n')"
   ]
  },
  {
   "cell_type": "code",
   "execution_count": 124,
   "metadata": {},
   "outputs": [
    {
     "data": {
      "text/plain": [
       "{'C': 0.06158482110660264}"
      ]
     },
     "execution_count": 124,
     "metadata": {},
     "output_type": "execute_result"
    }
   ],
   "source": [
    "logit_grid_searcher.best_params_"
   ]
  },
  {
   "cell_type": "code",
   "execution_count": 128,
   "metadata": {},
   "outputs": [
    {
     "name": "stdout",
     "output_type": "stream",
     "text": [
      "Submission saved to submission_2019-11-18_01-09-04.csv\n"
     ]
    }
   ],
   "source": [
    "X_valid = df_test_features.values\n",
    "X_valid_scaled = scaler.transform(X_valid)\n",
    "X_valid_scaled_csr = csr_matrix(X_valid_scaled)\n",
    "y_test_pred = logit_grid_searcher.best_estimator_.predict_proba(X_valid_scaled_csr)[:,1]\n",
    "df_submission = pd.DataFrame({'radiant_win_prob': y_test_pred}, index=df_test_features.index)\n",
    "\n",
    "submission_filename = 'submission_{}.csv'.format(datetime.datetime.now().strftime('%Y-%m-%d_%H-%M-%S'))\n",
    "df_submission.to_csv(submission_filename)\n",
    "\n",
    "print('Submission saved to {}'.format(submission_filename))"
   ]
  },
  {
   "cell_type": "code",
   "execution_count": null,
   "metadata": {},
   "outputs": [],
   "source": []
  },
  {
   "cell_type": "code",
   "execution_count": null,
   "metadata": {},
   "outputs": [],
   "source": []
  },
  {
   "cell_type": "code",
   "execution_count": null,
   "metadata": {},
   "outputs": [],
   "source": []
  },
  {
   "cell_type": "code",
   "execution_count": 117,
   "metadata": {},
   "outputs": [
    {
     "name": "stderr",
     "output_type": "stream",
     "text": [
      "C:\\ProgramData\\Anaconda3\\lib\\site-packages\\sklearn\\linear_model\\logistic.py:1544: UserWarning: 'n_jobs' > 1 does not have any effect when 'solver' is set to 'liblinear'. Got 'n_jobs' = 4.\n",
      "  \" = {}.\".format(effective_n_jobs(self.n_jobs)))\n"
     ]
    },
    {
     "name": "stdout",
     "output_type": "stream",
     "text": [
      "Wall time: 10.4 s\n"
     ]
    }
   ],
   "source": [
    "%%time\n",
    "model_sc_csr = LogisticRegression(random_state=17, n_jobs=4, solver='liblinear')\n",
    "model_sc_csr.fit(X_train_scaled_csr, y_train)\n",
    "y_pred = model_sc_csr.predict_proba(X_test_scaled_csr)[:,1]"
   ]
  },
  {
   "cell_type": "code",
   "execution_count": 118,
   "metadata": {},
   "outputs": [
    {
     "data": {
      "text/plain": [
       "0.8163824078404676"
      ]
     },
     "execution_count": 118,
     "metadata": {},
     "output_type": "execute_result"
    }
   ],
   "source": [
    "roc_auc_score(y_test, y_pred)"
   ]
  },
  {
   "cell_type": "code",
   "execution_count": 119,
   "metadata": {},
   "outputs": [
    {
     "data": {
      "text/plain": [
       "0.7292279257330084"
      ]
     },
     "execution_count": 119,
     "metadata": {},
     "output_type": "execute_result"
    }
   ],
   "source": [
    "accuracy_score(y_test, y_pred > 0.5)"
   ]
  },
  {
   "cell_type": "markdown",
   "metadata": {},
   "source": [
    "#### Без масштабирования результат на тесте очень сильно снижается"
   ]
  },
  {
   "cell_type": "raw",
   "metadata": {
    "jupyter": {
     "source_hidden": true
    }
   },
   "source": [
    "model = LogisticRegression(random_state=17, n_jobs=4)\n",
    "\n",
    "%%time\n",
    "\n",
    "model.fit(X_train, y_train)\n",
    "\n",
    "y_pred = model.predict_proba(X_test)[:,1]\n",
    "\n",
    "roc_auc_score(y_test, y_pred)\n",
    "\n",
    "accuracy_score(y_test, y_pred > 0.5)\n",
    "\n",
    "X_valid = df_test_features.values\n",
    "X_valid_scaled = scaler.transform(X_valid)\n",
    "y_test_pred = model.predict_proba(X_valid_scaled)[:,1]\n",
    "df_submission = pd.DataFrame({'radiant_win_prob': y_test_pred}, index=df_test_features.index)\n",
    "\n",
    "submission_filename = 'submission_{}.csv'.format(datetime.datetime.now().strftime('%Y-%m-%d_%H-%M-%S'))\n",
    "df_submission.to_csv(submission_filename)\n",
    "\n",
    "print('Submission saved to {}'.format(submission_filename))"
   ]
  },
  {
   "cell_type": "code",
   "execution_count": null,
   "metadata": {},
   "outputs": [],
   "source": [
    "'newton-cg', 'lbfgs', 'liblinear', 'sag', 'saga'"
   ]
  },
  {
   "cell_type": "code",
   "execution_count": 113,
   "metadata": {},
   "outputs": [
    {
     "name": "stderr",
     "output_type": "stream",
     "text": [
      "C:\\ProgramData\\Anaconda3\\lib\\site-packages\\sklearn\\linear_model\\logistic.py:1544: UserWarning: 'n_jobs' > 1 does not have any effect when 'solver' is set to 'liblinear'. Got 'n_jobs' = 4.\n",
      "  \" = {}.\".format(effective_n_jobs(self.n_jobs)))\n"
     ]
    },
    {
     "name": "stdout",
     "output_type": "stream",
     "text": [
      "Wall time: 10.4 s\n"
     ]
    }
   ],
   "source": [
    "%%time\n",
    "model_sc = LogisticRegression(random_state=17, n_jobs=4, C=0.12742749857031335, solver='liblinear')\n",
    "model_sc.fit(X_train_scaled, y_train)\n",
    "y_pred = model_sc.predict_proba(X_test_scaled)[:,1]"
   ]
  },
  {
   "cell_type": "code",
   "execution_count": 114,
   "metadata": {},
   "outputs": [
    {
     "data": {
      "text/plain": [
       "0.8163990731914487"
      ]
     },
     "execution_count": 114,
     "metadata": {},
     "output_type": "execute_result"
    }
   ],
   "source": [
    "roc_auc_score(y_test, y_pred)"
   ]
  },
  {
   "cell_type": "code",
   "execution_count": 115,
   "metadata": {},
   "outputs": [
    {
     "data": {
      "text/plain": [
       "0.7298160127698899"
      ]
     },
     "execution_count": 115,
     "metadata": {},
     "output_type": "execute_result"
    }
   ],
   "source": [
    "accuracy_score(y_test, y_pred > 0.5)"
   ]
  },
  {
   "cell_type": "code",
   "execution_count": 40,
   "metadata": {},
   "outputs": [
    {
     "name": "stdout",
     "output_type": "stream",
     "text": [
      "Submission saved to submission_2019-11-15_15-02-26.csv\n"
     ]
    }
   ],
   "source": [
    "X_valid = df_test_features.values\n",
    "X_valid_scaled = scaler.transform(X_valid)\n",
    "y_test_pred = model_sc.predict_proba(X_valid_scaled)[:,1]\n",
    "df_submission = pd.DataFrame({'radiant_win_prob': y_test_pred}, index=df_test_features.index)\n",
    "\n",
    "submission_filename = 'submission_{}.csv'.format(datetime.datetime.now().strftime('%Y-%m-%d_%H-%M-%S'))\n",
    "df_submission.to_csv(submission_filename)\n",
    "\n",
    "print('Submission saved to {}'.format(submission_filename))"
   ]
  },
  {
   "cell_type": "code",
   "execution_count": 76,
   "metadata": {},
   "outputs": [],
   "source": [
    "from sklearn.linear_model import LassoCV, RidgeClassifierCV"
   ]
  },
  {
   "cell_type": "code",
   "execution_count": 116,
   "metadata": {},
   "outputs": [
    {
     "name": "stdout",
     "output_type": "stream",
     "text": [
      "CPU times: user 44.8 s, sys: 12.4 s, total: 57.3 s\n",
      "Wall time: 15.8 s\n"
     ]
    },
    {
     "name": "stderr",
     "output_type": "stream",
     "text": [
      "/home/anton/jupyter_projects/venv/lib/python3.6/site-packages/sklearn/linear_model/coordinate_descent.py:475: ConvergenceWarning: Objective did not converge. You might want to increase the number of iterations. Duality gap: 1455.0870034545699, tolerance: 0.6924848624513894\n",
      "  positive)\n"
     ]
    },
    {
     "data": {
      "text/plain": [
       "0.8086353963566544"
      ]
     },
     "execution_count": 116,
     "metadata": {},
     "output_type": "execute_result"
    }
   ],
   "source": [
    "%%time\n",
    "\n",
    "lasso = LassoCV(cv=5, random_state=17)\n",
    "\n",
    "lasso.fit(X_train_scaled, y_train)\n",
    "\n",
    "y_pred_las = lasso.predict(X_test_scaled)\n",
    "\n",
    "roc_auc_score(y_test, y_pred_las)"
   ]
  },
  {
   "cell_type": "code",
   "execution_count": 118,
   "metadata": {},
   "outputs": [
    {
     "data": {
      "text/plain": [
       "array([-0.43565368,  0.46950756,  0.44853005, ...,  0.50135051,\n",
       "        0.45787696,  0.57789449])"
      ]
     },
     "execution_count": 118,
     "metadata": {},
     "output_type": "execute_result"
    }
   ],
   "source": [
    "y_pred_las"
   ]
  },
  {
   "cell_type": "code",
   "execution_count": 117,
   "metadata": {
    "collapsed": true,
    "jupyter": {
     "outputs_hidden": true
    }
   },
   "outputs": [
    {
     "ename": "AttributeError",
     "evalue": "'LassoCV' object has no attribute 'predict_proba'",
     "output_type": "error",
     "traceback": [
      "\u001b[0;31m---------------------------------------------------------------------------\u001b[0m",
      "\u001b[0;31mAttributeError\u001b[0m                            Traceback (most recent call last)",
      "\u001b[0;32m<ipython-input-117-5012ca7c657f>\u001b[0m in \u001b[0;36m<module>\u001b[0;34m\u001b[0m\n\u001b[1;32m      1\u001b[0m \u001b[0mX_valid\u001b[0m \u001b[0;34m=\u001b[0m \u001b[0mdf_test_features\u001b[0m\u001b[0;34m.\u001b[0m\u001b[0mvalues\u001b[0m\u001b[0;34m\u001b[0m\u001b[0;34m\u001b[0m\u001b[0m\n\u001b[1;32m      2\u001b[0m \u001b[0mX_valid_scaled\u001b[0m \u001b[0;34m=\u001b[0m \u001b[0mscaler\u001b[0m\u001b[0;34m.\u001b[0m\u001b[0mtransform\u001b[0m\u001b[0;34m(\u001b[0m\u001b[0mX_valid\u001b[0m\u001b[0;34m)\u001b[0m\u001b[0;34m\u001b[0m\u001b[0;34m\u001b[0m\u001b[0m\n\u001b[0;32m----> 3\u001b[0;31m \u001b[0my_test_pred\u001b[0m \u001b[0;34m=\u001b[0m \u001b[0mlasso\u001b[0m\u001b[0;34m.\u001b[0m\u001b[0mpredict_proba\u001b[0m\u001b[0;34m(\u001b[0m\u001b[0mX_valid_scaled\u001b[0m\u001b[0;34m)\u001b[0m\u001b[0;34m[\u001b[0m\u001b[0;34m:\u001b[0m\u001b[0;34m,\u001b[0m\u001b[0;36m1\u001b[0m\u001b[0;34m]\u001b[0m\u001b[0;34m\u001b[0m\u001b[0;34m\u001b[0m\u001b[0m\n\u001b[0m\u001b[1;32m      4\u001b[0m \u001b[0mdf_submission\u001b[0m \u001b[0;34m=\u001b[0m \u001b[0mpd\u001b[0m\u001b[0;34m.\u001b[0m\u001b[0mDataFrame\u001b[0m\u001b[0;34m(\u001b[0m\u001b[0;34m{\u001b[0m\u001b[0;34m'radiant_win_prob'\u001b[0m\u001b[0;34m:\u001b[0m \u001b[0my_test_pred\u001b[0m\u001b[0;34m}\u001b[0m\u001b[0;34m,\u001b[0m \u001b[0mindex\u001b[0m\u001b[0;34m=\u001b[0m\u001b[0mdf_test_features\u001b[0m\u001b[0;34m.\u001b[0m\u001b[0mindex\u001b[0m\u001b[0;34m)\u001b[0m\u001b[0;34m\u001b[0m\u001b[0;34m\u001b[0m\u001b[0m\n\u001b[1;32m      5\u001b[0m \u001b[0;34m\u001b[0m\u001b[0m\n",
      "\u001b[0;31mAttributeError\u001b[0m: 'LassoCV' object has no attribute 'predict_proba'"
     ]
    }
   ],
   "source": [
    "X_valid = df_test_features.values\n",
    "X_valid_scaled = scaler.transform(X_valid)\n",
    "y_test_pred = lasso.predict_proba(X_valid_scaled)[:,1]\n",
    "df_submission = pd.DataFrame({'radiant_win_prob': y_test_pred}, index=df_test_features.index)\n",
    "\n",
    "submission_filename = 'submission_{}.csv'.format(datetime.datetime.now().strftime('%Y-%m-%d_%H-%M-%S'))\n",
    "df_submission.to_csv(submission_filename)\n",
    "\n",
    "print('Submission saved to {}'.format(submission_filename))"
   ]
  },
  {
   "cell_type": "code",
   "execution_count": 100,
   "metadata": {},
   "outputs": [
    {
     "name": "stdout",
     "output_type": "stream",
     "text": [
      "CPU times: user 8.67 s, sys: 3.8 s, total: 12.5 s\n",
      "Wall time: 3.64 s\n"
     ]
    },
    {
     "data": {
      "text/plain": [
       "0.7193438180743512"
      ]
     },
     "execution_count": 100,
     "metadata": {},
     "output_type": "execute_result"
    }
   ],
   "source": [
    "%%time\n",
    "\n",
    "ridge = RidgeClassifierCV(cv=10)\n",
    "ridge.fit(X_train_scaled, y_train)\n",
    "\n",
    "y_pred_rdg = ridge.predict(X_test_scaled)\n",
    "\n",
    "roc_auc_score(y_test, y_pred_rdg)"
   ]
  },
  {
   "cell_type": "code",
   "execution_count": 96,
   "metadata": {
    "collapsed": true,
    "jupyter": {
     "outputs_hidden": true
    }
   },
   "outputs": [
    {
     "data": {
      "text/html": [
       "<div>\n",
       "<style scoped>\n",
       "    .dataframe tbody tr th:only-of-type {\n",
       "        vertical-align: middle;\n",
       "    }\n",
       "\n",
       "    .dataframe tbody tr th {\n",
       "        vertical-align: top;\n",
       "    }\n",
       "\n",
       "    .dataframe thead th {\n",
       "        text-align: right;\n",
       "    }\n",
       "</style>\n",
       "<table border=\"1\" class=\"dataframe\">\n",
       "  <thead>\n",
       "    <tr style=\"text-align: right;\">\n",
       "      <th></th>\n",
       "      <th>coef</th>\n",
       "    </tr>\n",
       "  </thead>\n",
       "  <tbody>\n",
       "    <tr>\n",
       "      <th>d5_level</th>\n",
       "      <td>-0.167303</td>\n",
       "    </tr>\n",
       "    <tr>\n",
       "      <th>r1_level</th>\n",
       "      <td>0.162635</td>\n",
       "    </tr>\n",
       "    <tr>\n",
       "      <th>d4_level</th>\n",
       "      <td>-0.151502</td>\n",
       "    </tr>\n",
       "    <tr>\n",
       "      <th>d3_level</th>\n",
       "      <td>-0.148609</td>\n",
       "    </tr>\n",
       "    <tr>\n",
       "      <th>r2_level</th>\n",
       "      <td>0.144113</td>\n",
       "    </tr>\n",
       "    <tr>\n",
       "      <th>r4_level</th>\n",
       "      <td>0.144073</td>\n",
       "    </tr>\n",
       "    <tr>\n",
       "      <th>d2_level</th>\n",
       "      <td>-0.142363</td>\n",
       "    </tr>\n",
       "    <tr>\n",
       "      <th>d1_level</th>\n",
       "      <td>-0.134476</td>\n",
       "    </tr>\n",
       "    <tr>\n",
       "      <th>r3_level</th>\n",
       "      <td>0.129554</td>\n",
       "    </tr>\n",
       "    <tr>\n",
       "      <th>r5_level</th>\n",
       "      <td>0.124147</td>\n",
       "    </tr>\n",
       "    <tr>\n",
       "      <th>d5_xp</th>\n",
       "      <td>0.092618</td>\n",
       "    </tr>\n",
       "    <tr>\n",
       "      <th>r4_gold</th>\n",
       "      <td>0.074345</td>\n",
       "    </tr>\n",
       "    <tr>\n",
       "      <th>d5_gold</th>\n",
       "      <td>-0.072611</td>\n",
       "    </tr>\n",
       "    <tr>\n",
       "      <th>r5_gold</th>\n",
       "      <td>0.068658</td>\n",
       "    </tr>\n",
       "    <tr>\n",
       "      <th>d3_gold</th>\n",
       "      <td>-0.067300</td>\n",
       "    </tr>\n",
       "    <tr>\n",
       "      <th>d2_xp</th>\n",
       "      <td>0.066596</td>\n",
       "    </tr>\n",
       "    <tr>\n",
       "      <th>r4_xp</th>\n",
       "      <td>-0.059045</td>\n",
       "    </tr>\n",
       "    <tr>\n",
       "      <th>d4_gold</th>\n",
       "      <td>-0.058631</td>\n",
       "    </tr>\n",
       "    <tr>\n",
       "      <th>r2_gold</th>\n",
       "      <td>0.058111</td>\n",
       "    </tr>\n",
       "    <tr>\n",
       "      <th>r1_xp</th>\n",
       "      <td>-0.056114</td>\n",
       "    </tr>\n",
       "    <tr>\n",
       "      <th>d2_gold</th>\n",
       "      <td>-0.053007</td>\n",
       "    </tr>\n",
       "    <tr>\n",
       "      <th>r2_xp</th>\n",
       "      <td>-0.045494</td>\n",
       "    </tr>\n",
       "    <tr>\n",
       "      <th>d1_gold</th>\n",
       "      <td>-0.043076</td>\n",
       "    </tr>\n",
       "    <tr>\n",
       "      <th>d4_xp</th>\n",
       "      <td>0.041970</td>\n",
       "    </tr>\n",
       "    <tr>\n",
       "      <th>r1_gold</th>\n",
       "      <td>0.039033</td>\n",
       "    </tr>\n",
       "    <tr>\n",
       "      <th>r5_xp</th>\n",
       "      <td>-0.037730</td>\n",
       "    </tr>\n",
       "    <tr>\n",
       "      <th>d3_xp</th>\n",
       "      <td>0.030117</td>\n",
       "    </tr>\n",
       "    <tr>\n",
       "      <th>d1_xp</th>\n",
       "      <td>0.029401</td>\n",
       "    </tr>\n",
       "    <tr>\n",
       "      <th>r3_xp</th>\n",
       "      <td>-0.028771</td>\n",
       "    </tr>\n",
       "    <tr>\n",
       "      <th>r3_gold</th>\n",
       "      <td>0.027408</td>\n",
       "    </tr>\n",
       "    <tr>\n",
       "      <th>...</th>\n",
       "      <td>...</td>\n",
       "    </tr>\n",
       "    <tr>\n",
       "      <th>r2_firstblood_claimed</th>\n",
       "      <td>0.000617</td>\n",
       "    </tr>\n",
       "    <tr>\n",
       "      <th>r1_sen_placed</th>\n",
       "      <td>-0.000577</td>\n",
       "    </tr>\n",
       "    <tr>\n",
       "      <th>d3_max_mana</th>\n",
       "      <td>-0.000518</td>\n",
       "    </tr>\n",
       "    <tr>\n",
       "      <th>d4_creeps_stacked</th>\n",
       "      <td>-0.000484</td>\n",
       "    </tr>\n",
       "    <tr>\n",
       "      <th>r4_stuns</th>\n",
       "      <td>-0.000479</td>\n",
       "    </tr>\n",
       "    <tr>\n",
       "      <th>r4_assists</th>\n",
       "      <td>-0.000385</td>\n",
       "    </tr>\n",
       "    <tr>\n",
       "      <th>d5_hero_id</th>\n",
       "      <td>-0.000361</td>\n",
       "    </tr>\n",
       "    <tr>\n",
       "      <th>r3_hero_id</th>\n",
       "      <td>-0.000336</td>\n",
       "    </tr>\n",
       "    <tr>\n",
       "      <th>r4_kills</th>\n",
       "      <td>0.000332</td>\n",
       "    </tr>\n",
       "    <tr>\n",
       "      <th>d5_assists</th>\n",
       "      <td>0.000326</td>\n",
       "    </tr>\n",
       "    <tr>\n",
       "      <th>r4_roshans_killed</th>\n",
       "      <td>0.000310</td>\n",
       "    </tr>\n",
       "    <tr>\n",
       "      <th>d1_deaths</th>\n",
       "      <td>0.000257</td>\n",
       "    </tr>\n",
       "    <tr>\n",
       "      <th>d4_kills</th>\n",
       "      <td>-0.000235</td>\n",
       "    </tr>\n",
       "    <tr>\n",
       "      <th>d2_firstblood_claimed</th>\n",
       "      <td>-0.000231</td>\n",
       "    </tr>\n",
       "    <tr>\n",
       "      <th>d2_roshans_killed</th>\n",
       "      <td>-0.000187</td>\n",
       "    </tr>\n",
       "    <tr>\n",
       "      <th>d4_lh</th>\n",
       "      <td>-0.000179</td>\n",
       "    </tr>\n",
       "    <tr>\n",
       "      <th>r1_lh</th>\n",
       "      <td>0.000120</td>\n",
       "    </tr>\n",
       "    <tr>\n",
       "      <th>d3_deaths</th>\n",
       "      <td>0.000085</td>\n",
       "    </tr>\n",
       "    <tr>\n",
       "      <th>r2_lh</th>\n",
       "      <td>0.000000</td>\n",
       "    </tr>\n",
       "    <tr>\n",
       "      <th>r2_deaths</th>\n",
       "      <td>0.000000</td>\n",
       "    </tr>\n",
       "    <tr>\n",
       "      <th>r4_max_health</th>\n",
       "      <td>0.000000</td>\n",
       "    </tr>\n",
       "    <tr>\n",
       "      <th>r3_max_health</th>\n",
       "      <td>-0.000000</td>\n",
       "    </tr>\n",
       "    <tr>\n",
       "      <th>r2_sen_placed</th>\n",
       "      <td>-0.000000</td>\n",
       "    </tr>\n",
       "    <tr>\n",
       "      <th>d2_kills</th>\n",
       "      <td>0.000000</td>\n",
       "    </tr>\n",
       "    <tr>\n",
       "      <th>r1_camps_stacked</th>\n",
       "      <td>0.000000</td>\n",
       "    </tr>\n",
       "    <tr>\n",
       "      <th>d5_camps_stacked</th>\n",
       "      <td>0.000000</td>\n",
       "    </tr>\n",
       "    <tr>\n",
       "      <th>d2_assists</th>\n",
       "      <td>-0.000000</td>\n",
       "    </tr>\n",
       "    <tr>\n",
       "      <th>r1_kills</th>\n",
       "      <td>0.000000</td>\n",
       "    </tr>\n",
       "    <tr>\n",
       "      <th>d2_sen_placed</th>\n",
       "      <td>0.000000</td>\n",
       "    </tr>\n",
       "    <tr>\n",
       "      <th>d1_assists</th>\n",
       "      <td>-0.000000</td>\n",
       "    </tr>\n",
       "  </tbody>\n",
       "</table>\n",
       "<p>245 rows × 1 columns</p>\n",
       "</div>"
      ],
      "text/plain": [
       "                      coef\n",
       "d5_level         -0.167303\n",
       "r1_level          0.162635\n",
       "d4_level         -0.151502\n",
       "d3_level         -0.148609\n",
       "r2_level          0.144113\n",
       "...                    ...\n",
       "d5_camps_stacked  0.000000\n",
       "d2_assists       -0.000000\n",
       "r1_kills          0.000000\n",
       "d2_sen_placed     0.000000\n",
       "d1_assists       -0.000000\n",
       "\n",
       "[245 rows x 1 columns]"
      ]
     },
     "execution_count": 96,
     "metadata": {},
     "output_type": "execute_result"
    }
   ],
   "source": [
    "def getCoefficients(model, columns):\n",
    "    \"\"\"Returns sorted coefficient values of the model\"\"\"\n",
    "    coefs = pd.DataFrame(model.coef_, columns)\n",
    "    coefs.columns = [\"coef\"]\n",
    "    coefs[\"abs\"] = coefs.coef.apply(np.abs)\n",
    "    return coefs.sort_values(by=\"abs\", ascending=False).drop([\"abs\"], axis=1)\n",
    "\n",
    "getCoefficients(lasso, df_train_features.columns)"
   ]
  },
  {
   "cell_type": "code",
   "execution_count": 84,
   "metadata": {
    "collapsed": true,
    "jupyter": {
     "outputs_hidden": true
    }
   },
   "outputs": [
    {
     "data": {
      "text/plain": [
       "array([ 2.50745614e-02, -2.01276816e-03,  1.80563030e-03, -1.88526539e-03,\n",
       "       -2.50471728e-03, -1.43719631e-03,  6.65806834e-03, -6.77375108e-03,\n",
       "       -1.09466244e-02,  6.62134594e-03,  3.99958854e-02,  0.00000000e+00,\n",
       "       -5.01199651e-02,  7.44478303e-03,  4.85897637e-03,  4.23568185e-03,\n",
       "        1.63962012e-01,  5.18740693e-03,  1.01406507e-02,  7.39749402e-03,\n",
       "        2.96836576e-03,  0.00000000e+00, -0.00000000e+00, -3.45639607e-03,\n",
       "        1.14520102e-02,  1.09987747e-02, -3.73591768e-03,  2.34599635e-03,\n",
       "       -4.34910526e-04, -4.54372313e-03,  1.37228326e-02,  6.16953103e-03,\n",
       "        1.04292335e-02,  1.39498768e-02,  5.93671640e-02,  0.00000000e+00,\n",
       "       -3.90004089e-02,  7.47066796e-03,  2.78112249e-03, -2.15164501e-03,\n",
       "        1.43574327e-01,  2.77072752e-03,  7.48216153e-03, -5.02854876e-03,\n",
       "        8.58137305e-03, -2.86292767e-03,  6.51010535e-03,  3.51478235e-04,\n",
       "        3.75297673e-03,  7.22322565e-03,  5.77191873e-04,  7.07255432e-03,\n",
       "        0.00000000e+00, -2.28914997e-04,  1.84537469e-02,  2.71043065e-03,\n",
       "        3.04924954e-03,  1.29785683e-02,  3.02708662e-02,  5.18732894e-03,\n",
       "       -1.96567597e-02,  1.39947939e-02,  0.00000000e+00,  2.50893948e-03,\n",
       "        1.25447031e-01,  7.51058627e-03,  6.68843173e-03, -1.83255203e-03,\n",
       "        1.33016089e-03, -2.70651770e-03,  6.20633614e-03,  4.43632247e-03,\n",
       "        1.28839486e-03,  1.00208841e-02,  1.71771736e-04,  8.31862842e-03,\n",
       "       -1.95933735e-03, -8.70058556e-04,  7.38580037e-03, -1.75508227e-03,\n",
       "       -3.09524612e-04,  7.91838499e-03,  7.46886705e-02, -2.81477348e-03,\n",
       "       -4.82006092e-02,  4.21305983e-03,  0.00000000e+00,  7.93155067e-03,\n",
       "        1.37372741e-01,  1.31072565e-03,  4.50224667e-03, -5.57910750e-04,\n",
       "       -4.60946617e-03,  5.21405414e-03,  1.41654002e-03,  6.73670809e-03,\n",
       "        5.20150340e-03,  1.40468568e-02,  0.00000000e+00,  4.49055790e-03,\n",
       "       -2.22979830e-03, -2.98121562e-03,  1.39652633e-02, -1.46910957e-02,\n",
       "        6.80342371e-04,  9.35332942e-03,  6.42637221e-02, -3.75477531e-03,\n",
       "       -2.62505722e-02,  8.31682531e-03,  5.15268523e-03,  5.47770093e-03,\n",
       "        1.14348246e-01,  6.33460204e-03,  6.48238939e-03, -8.50457866e-04,\n",
       "        8.36371067e-03, -8.17735194e-03,  1.77585852e-04, -1.58485930e-03,\n",
       "        1.58128342e-03,  5.07854661e-03,  4.18331047e-04,  6.02073608e-03,\n",
       "       -1.17836787e-03,  3.41205091e-03, -2.24358370e-03, -6.68828606e-03,\n",
       "       -0.00000000e+00, -9.83679319e-03, -4.60091642e-02, -1.26008718e-02,\n",
       "        2.66843136e-02, -5.06537805e-03,  7.67315876e-03, -1.10451132e-03,\n",
       "       -1.35661560e-01,  6.65581710e-03,  9.70110107e-03,  4.17166888e-03,\n",
       "        1.91950718e-03, -2.51626519e-03, -8.33848820e-03, -1.43680698e-03,\n",
       "       -6.23702015e-03, -7.72161842e-03,  2.79508238e-03, -5.97649022e-03,\n",
       "       -1.92392683e-03,  7.67102730e-04, -3.51740287e-03, -0.00000000e+00,\n",
       "       -0.00000000e+00, -1.30844633e-02, -5.66348945e-02, -5.35789017e-03,\n",
       "        6.06956918e-02, -3.36014355e-03, -1.06855209e-02, -1.78787690e-03,\n",
       "       -1.42432443e-01,  2.87765336e-03,  8.46877831e-04,  8.27986933e-04,\n",
       "       -2.56888193e-03,  2.96020729e-03, -1.21846747e-02, -8.43038724e-04,\n",
       "       -9.59272935e-03, -9.30758361e-03, -4.74812915e-04, -9.01394634e-03,\n",
       "        0.00000000e+00,  2.61525873e-03, -2.41399603e-03, -7.65803669e-03,\n",
       "       -3.03117269e-03, -1.09152484e-02, -6.84411150e-02,  1.56381705e-02,\n",
       "        2.13632074e-02, -7.00270052e-03,  7.38470263e-04, -7.86713002e-04,\n",
       "       -1.45528337e-01, -3.90694209e-03,  3.30997186e-03,  1.47055193e-03,\n",
       "        5.88512478e-03, -2.94829598e-03, -8.95635991e-03, -2.29063341e-03,\n",
       "       -5.55610035e-03, -6.02012201e-03,  1.04629313e-03, -9.18023313e-03,\n",
       "        5.46080450e-03,  2.54522153e-03, -5.42316872e-03,  3.24229039e-03,\n",
       "       -4.74087746e-03, -4.73698131e-03, -5.93664962e-02, -9.41609265e-04,\n",
       "        3.18738460e-02, -1.38062918e-02, -3.15779851e-03,  1.16593060e-03,\n",
       "       -1.45653360e-01,  6.36367372e-03,  1.48012181e-03,  1.42211225e-03,\n",
       "       -6.15611557e-04, -9.71048500e-04,  2.89362526e-04, -5.18862656e-03,\n",
       "       -1.91254310e-03, -5.67800156e-03,  5.03324591e-03, -7.12076026e-03,\n",
       "        1.56586968e-03, -3.77105529e-04, -1.16644189e-02, -2.64982310e-03,\n",
       "       -0.00000000e+00, -2.93062639e-03, -7.25943260e-02,  8.22321353e-05,\n",
       "        8.07022642e-02, -2.47377154e-03, -5.59049254e-03, -1.90718947e-03,\n",
       "       -1.58004566e-01,  6.99048433e-04,  4.65451828e-03,  2.68756041e-03,\n",
       "       -5.03056256e-03,  0.00000000e+00, -9.09715368e-03, -2.40867066e-03,\n",
       "       -5.61352918e-04, -8.63378271e-03, -3.65133319e-03, -8.68133441e-03,\n",
       "        2.25141569e-03])"
      ]
     },
     "execution_count": 84,
     "metadata": {},
     "output_type": "execute_result"
    }
   ],
   "source": [
    "lasso.coef_"
   ]
  },
  {
   "cell_type": "code",
   "execution_count": 67,
   "metadata": {},
   "outputs": [],
   "source": [
    "from sklearn.ensemble import GradientBoostingClassifier"
   ]
  },
  {
   "cell_type": "code",
   "execution_count": 68,
   "metadata": {},
   "outputs": [],
   "source": [
    "xgb = GradientBoostingClassifier()"
   ]
  },
  {
   "cell_type": "code",
   "execution_count": 69,
   "metadata": {},
   "outputs": [
    {
     "data": {
      "text/plain": [
       "GradientBoostingClassifier(criterion='friedman_mse', init=None,\n",
       "                           learning_rate=0.1, loss='deviance', max_depth=3,\n",
       "                           max_features=None, max_leaf_nodes=None,\n",
       "                           min_impurity_decrease=0.0, min_impurity_split=None,\n",
       "                           min_samples_leaf=1, min_samples_split=2,\n",
       "                           min_weight_fraction_leaf=0.0, n_estimators=100,\n",
       "                           n_iter_no_change=None, presort='auto',\n",
       "                           random_state=None, subsample=1.0, tol=0.0001,\n",
       "                           validation_fraction=0.1, verbose=0,\n",
       "                           warm_start=False)"
      ]
     },
     "execution_count": 69,
     "metadata": {},
     "output_type": "execute_result"
    }
   ],
   "source": [
    "xgb.fit(X_train_scaled, y_train)"
   ]
  },
  {
   "cell_type": "code",
   "execution_count": 71,
   "metadata": {},
   "outputs": [
    {
     "data": {
      "text/plain": [
       "array([0.02008909, 0.44434299, 0.46210541, ..., 0.41915801, 0.69216327,\n",
       "       0.59271351])"
      ]
     },
     "execution_count": 71,
     "metadata": {},
     "output_type": "execute_result"
    }
   ],
   "source": [
    "y_pred_xgb = xgb.predict_proba(X_test_scaled)[:,1]\n",
    "y_pred_xgb"
   ]
  },
  {
   "cell_type": "code",
   "execution_count": 72,
   "metadata": {},
   "outputs": [
    {
     "data": {
      "text/plain": [
       "0.7816539101751729"
      ]
     },
     "execution_count": 72,
     "metadata": {},
     "output_type": "execute_result"
    }
   ],
   "source": [
    "roc_auc_score(y_test, y_pred_xgb)"
   ]
  },
  {
   "cell_type": "code",
   "execution_count": 73,
   "metadata": {},
   "outputs": [
    {
     "data": {
      "text/plain": [
       "0.7002436360581366"
      ]
     },
     "execution_count": 73,
     "metadata": {},
     "output_type": "execute_result"
    }
   ],
   "source": [
    "accuracy_score(y_test, y_pred_xgb > 0.5)"
   ]
  },
  {
   "cell_type": "code",
   "execution_count": 74,
   "metadata": {},
   "outputs": [
    {
     "name": "stdout",
     "output_type": "stream",
     "text": [
      "Submission saved to submission_2019-11-15_15-40-55.csv\n"
     ]
    }
   ],
   "source": [
    "X_valid = df_test_features.values\n",
    "X_valid_scaled = scaler.transform(X_valid)\n",
    "y_test_pred = xgb.predict_proba(X_valid_scaled)[:,1]\n",
    "df_submission = pd.DataFrame({'radiant_win_prob': y_test_pred}, index=df_test_features.index)\n",
    "\n",
    "submission_filename = 'submission_{}.csv'.format(datetime.datetime.now().strftime('%Y-%m-%d_%H-%M-%S'))\n",
    "df_submission.to_csv(submission_filename)\n",
    "\n",
    "print('Submission saved to {}'.format(submission_filename))"
   ]
  },
  {
   "cell_type": "code",
   "execution_count": null,
   "metadata": {},
   "outputs": [],
   "source": []
  }
 ],
 "metadata": {
  "kernelspec": {
   "display_name": "Python 3",
   "language": "python",
   "name": "python3"
  },
  "language_info": {
   "codemirror_mode": {
    "name": "ipython",
    "version": 3
   },
   "file_extension": ".py",
   "mimetype": "text/x-python",
   "name": "python",
   "nbconvert_exporter": "python",
   "pygments_lexer": "ipython3",
   "version": "3.7.5"
  }
 },
 "nbformat": 4,
 "nbformat_minor": 4
}
